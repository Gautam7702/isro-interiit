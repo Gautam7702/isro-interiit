{
 "cells": [
  {
   "cell_type": "code",
   "execution_count": 1,
   "metadata": {},
   "outputs": [],
   "source": [
    "from backend.file_handler.handle_types import read_fits"
   ]
  },
  {
   "cell_type": "code",
   "execution_count": 2,
   "metadata": {},
   "outputs": [],
   "source": [
    "path = \"C:/Users/debji/Downloads/ch2_xsm_20211111_v1/xsm/data/2021/11/11/calibrated/ch2_xsm_20211111_v1_level2.lc\""
   ]
  },
  {
   "cell_type": "code",
   "execution_count": 3,
   "metadata": {},
   "outputs": [],
   "source": [
    "arr = read_fits(path)"
   ]
  },
  {
   "cell_type": "code",
   "execution_count": 41,
   "metadata": {},
   "outputs": [],
   "source": [
    "data = read_fits(path)"
   ]
  },
  {
   "cell_type": "code",
   "execution_count": 4,
   "metadata": {},
   "outputs": [
    {
     "data": {
      "text/plain": [
       "{'good': True,\n",
       " 'data': array([[1.53360961e+08, 3.93204590e+02],\n",
       "        [1.53360962e+08, 3.87189514e+02],\n",
       "        [1.53360963e+08, 3.19769318e+02],\n",
       "        ...,\n",
       "        [1.53397004e+08, 3.50233948e+02],\n",
       "        [1.53397005e+08, 3.98743317e+02],\n",
       "        [1.53397006e+08, 3.59054565e+02]])}"
      ]
     },
     "execution_count": 4,
     "metadata": {},
     "output_type": "execute_result"
    }
   ],
   "source": [
    "arr"
   ]
  },
  {
   "cell_type": "code",
   "execution_count": null,
   "metadata": {},
   "outputs": [],
   "source": []
  }
 ],
 "metadata": {
  "interpreter": {
   "hash": "c44567b8b7b5fab860d21e3dd82c114c7d31a39e0cd5a645552481700629d8e7"
  },
  "kernelspec": {
   "display_name": "Python 3.8.5 ('ybs')",
   "language": "python",
   "name": "python3"
  },
  "language_info": {
   "codemirror_mode": {
    "name": "ipython",
    "version": 3
   },
   "file_extension": ".py",
   "mimetype": "text/x-python",
   "name": "python",
   "nbconvert_exporter": "python",
   "pygments_lexer": "ipython3",
   "version": "3.8.5"
  },
  "orig_nbformat": 4
 },
 "nbformat": 4,
 "nbformat_minor": 2
}
