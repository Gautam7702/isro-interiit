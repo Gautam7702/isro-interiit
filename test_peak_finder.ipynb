{
 "cells": [
  {
   "cell_type": "code",
   "execution_count": 4,
   "metadata": {},
   "outputs": [],
   "source": [
    "path = \"C:/Users/debji/Downloads/ch2_xsm_20211111_v1/xsm/data/2021/11/11/calibrated/ch2_xsm_20211111_v1_level2.lc\"\n",
    "from backend.file_handler.handle_types import read_fits\n",
    "file_response = read_fits(path)\n",
    "if file_response[\"good\"]:\n",
    "    matrix = file_response[\"data\"]\n",
    "else:\n",
    "    print(file_response[\"message\"])"
   ]
  },
  {
   "cell_type": "code",
   "execution_count": 6,
   "metadata": {},
   "outputs": [],
   "source": [
    "from backend.core.curve_completion import complete_curve\n",
    "complete = complete_curve(matrix)\n",
    "\n",
    "from backend.core.smoothen_curve import moving_average\n",
    "smooth = moving_average(complete, 300)"
   ]
  },
  {
   "cell_type": "code",
   "execution_count": 7,
   "metadata": {},
   "outputs": [],
   "source": [
    "from matplotlib import pyplot as plt"
   ]
  },
  {
   "cell_type": "code",
   "execution_count": 8,
   "metadata": {},
   "outputs": [
    {
     "data": {
      "text/plain": [
       "[<matplotlib.lines.Line2D at 0x2427fd3a850>]"
      ]
     },
     "execution_count": 8,
     "metadata": {},
     "output_type": "execute_result"
    },
    {
     "data": {
      "image/png": "[encoded data removed]",
      "text/plain": [
       "<Figure size 432x288 with 1 Axes>"
      ]
     },
     "metadata": {
      "needs_background": "light"
     },
     "output_type": "display_data"
    }
   ],
   "source": [
    "plt.plot(smooth)"
   ]
  },
  {
   "cell_type": "code",
   "execution_count": 9,
   "metadata": {},
   "outputs": [],
   "source": [
    "from scipy.signal import find_peaks, peak_widths"
   ]
  },
  {
   "cell_type": "code",
   "execution_count": 15,
   "metadata": {},
   "outputs": [],
   "source": [
    "import numpy as np\n",
    "x=((np.max(smooth)-np.average(smooth))/3+np.average(smooth))\n",
    "peaks, p_data = find_peaks(smooth, x, width = 60)"
   ]
  },
  {
   "cell_type": "code",
   "execution_count": 19,
   "metadata": {},
   "outputs": [
    {
     "data": {
      "text/plain": [
       "array([14931, 15728], dtype=int64)"
      ]
     },
     "execution_count": 19,
     "metadata": {},
     "output_type": "execute_result"
    }
   ],
   "source": [
    "peaks"
   ]
  },
  {
   "cell_type": "code",
   "execution_count": 22,
   "metadata": {},
   "outputs": [
    {
     "data": {
      "text/plain": [
       "(array([35995.31890902,   273.10861992]),\n",
       " array([223.67209853, 519.39881003]),\n",
       " array([   37.60777467, 15583.11948987]),\n",
       " array([36032.92668369, 15856.2281098 ]))"
      ]
     },
     "execution_count": 22,
     "metadata": {},
     "output_type": "execute_result"
    }
   ],
   "source": [
    "widths = peak_widths(smooth, peaks, 0.97)\n",
    "widths"
   ]
  },
  {
   "cell_type": "code",
   "execution_count": 25,
   "metadata": {},
   "outputs": [],
   "source": [
    "ranges = [\n",
    "    {\n",
    "        \"range\": [\n",
    "            widths[2][i],\n",
    "            widths[3][i]\n",
    "        ],\n",
    "        \"rise_time\": peaks[i] - widths[2][i],\n",
    "        \"decay_time\": widths[3][i] - peaks[i],\n",
    "        \"peak_flux\": smooth[peaks[i]],\n",
    "        \"duration\": widths[0][i]\n",
    "    }\n",
    "    for i in range(len(peaks))\n",
    "]"
   ]
  },
  {
   "cell_type": "code",
   "execution_count": 26,
   "metadata": {},
   "outputs": [
    {
     "data": {
      "text/plain": [
       "[{'range': [37.60777467144239, 36032.92668369149],\n",
       "  'rise_time': 14893.392225328558,\n",
       "  'decay_time': 21101.92668369149,\n",
       "  'peak_flux': 786.863818359375,\n",
       "  'duration': 35995.31890902005},\n",
       " {'range': [15583.119489872093, 15856.228109795407],\n",
       "  'rise_time': 144.88051012790675,\n",
       "  'decay_time': 128.22810979540736,\n",
       "  'peak_flux': 523.1142868437929,\n",
       "  'duration': 273.1086199233141}]"
      ]
     },
     "execution_count": 26,
     "metadata": {},
     "output_type": "execute_result"
    }
   ],
   "source": [
    "ranges"
   ]
  },
  {
   "cell_type": "code",
   "execution_count": null,
   "metadata": {},
   "outputs": [],
   "source": []
  }
 ],
 "metadata": {
  "interpreter": {
   "hash": "9413ecba12c8d30d71729b19a0b593a81253692ec7bc6aed5a642efcc0099d68"
  },
  "kernelspec": {
   "display_name": "Python 3.8.5 ('slf')",
   "language": "python",
   "name": "python3"
  },
  "language_info": {
   "codemirror_mode": {
    "name": "ipython",
    "version": 3
   },
   "file_extension": ".py",
   "mimetype": "text/x-python",
   "name": "python",
   "nbconvert_exporter": "python",
   "pygments_lexer": "ipython3",
   "version": "3.8.5"
  },
  "orig_nbformat": 4
 },
 "nbformat": 4,
 "nbformat_minor": 2
}
